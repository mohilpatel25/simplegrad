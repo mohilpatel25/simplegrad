{
 "cells": [
  {
   "cell_type": "code",
   "execution_count": 1,
   "metadata": {},
   "outputs": [],
   "source": [
    "%load_ext autoreload\n",
    "%autoreload 2"
   ]
  },
  {
   "cell_type": "code",
   "execution_count": 2,
   "metadata": {},
   "outputs": [],
   "source": [
    "import matplotlib.pyplot as plt\n",
    "import random\n",
    "\n",
    "from simplegrad import tensor\n",
    "from simplegrad import nn"
   ]
  },
  {
   "cell_type": "code",
   "execution_count": null,
   "metadata": {},
   "outputs": [],
   "source": []
  },
  {
   "cell_type": "code",
   "execution_count": 3,
   "metadata": {},
   "outputs": [],
   "source": [
    "seed_point_x = [2, 5]\n",
    "seed_point_y = [2, 5]\n",
    "\n",
    "n_points = 10\n",
    "points_x = [random.uniform(-1, 1)+seed_point_x[0] for _ in range(n_points)] + [random.uniform(-1, 1)+seed_point_x[1] for _ in range(n_points)]\n",
    "points_y = [random.uniform(-1, 1)+seed_point_y[0] for _ in range(n_points)] + [random.uniform(-1, 1)+seed_point_y[1] for _ in range(n_points)]\n",
    "\n",
    "x_true = list(zip(points_x, points_y))\n",
    "\n",
    "y_true = [-1] * n_points + [1] * n_points"
   ]
  },
  {
   "cell_type": "code",
   "execution_count": 4,
   "metadata": {},
   "outputs": [],
   "source": [
    "mlp = nn.MLP(2, [3, 4, 1])"
   ]
  },
  {
   "cell_type": "code",
   "execution_count": 5,
   "metadata": {},
   "outputs": [
    {
     "name": "stdout",
     "output_type": "stream",
     "text": [
      "Epoch: 0, loss = Tensor(value=40.158417755509454)\n",
      "Epoch: 50, loss = Tensor(value=40.015763652828504)\n",
      "Epoch: 100, loss = Tensor(value=0.1353413252054177)\n",
      "Epoch: 150, loss = Tensor(value=0.02865083642191716)\n",
      "Epoch: 200, loss = Tensor(value=0.019623978111311176)\n",
      "Epoch: 250, loss = Tensor(value=0.01753400530028783)\n",
      "Epoch: 300, loss = Tensor(value=0.015140487735508284)\n",
      "Epoch: 350, loss = Tensor(value=0.012854359949296873)\n",
      "Epoch: 400, loss = Tensor(value=0.011288355300344931)\n",
      "Epoch: 450, loss = Tensor(value=0.010470123354310829)\n"
     ]
    }
   ],
   "source": [
    "for epoch in range(500):\n",
    "    y_pred = [mlp(x) for x in x_true]\n",
    "    loss = sum([(y_t - y_p)**2 for y_t, y_p in zip(y_true, y_pred)])\n",
    "\n",
    "    mlp.reset_gradients()\n",
    "    loss.backward()\n",
    "    for parameter in mlp.parameters():\n",
    "        parameter.value -= 0.1 * parameter.grad\n",
    "\n",
    "    if epoch % 50 == 0:\n",
    "        print(f\"Epoch: {epoch}, loss = {loss}\")"
   ]
  }
 ],
 "metadata": {
  "kernelspec": {
   "display_name": "Python 3",
   "language": "python",
   "name": "python3"
  },
  "language_info": {
   "codemirror_mode": {
    "name": "ipython",
    "version": 3
   },
   "file_extension": ".py",
   "mimetype": "text/x-python",
   "name": "python",
   "nbconvert_exporter": "python",
   "pygments_lexer": "ipython3",
   "version": "3.10.12"
  }
 },
 "nbformat": 4,
 "nbformat_minor": 2
}
